{
 "cells": [
  {
   "cell_type": "markdown",
   "id": "92635b49",
   "metadata": {
    "papermill": {
     "duration": 0.009221,
     "end_time": "2023-06-05T13:13:54.406504",
     "exception": false,
     "start_time": "2023-06-05T13:13:54.397283",
     "status": "completed"
    },
    "tags": []
   },
   "source": [
    "**This notebook is an exercise in the [Python](https://www.kaggle.com/learn/python) course.  You can reference the tutorial at [this link](https://www.kaggle.com/colinmorris/hello-python).**\n",
    "\n",
    "---\n"
   ]
  },
  {
   "cell_type": "markdown",
   "id": "80357180",
   "metadata": {
    "papermill": {
     "duration": 0.007923,
     "end_time": "2023-06-05T13:13:54.423152",
     "exception": false,
     "start_time": "2023-06-05T13:13:54.415229",
     "status": "completed"
    },
    "tags": []
   },
   "source": [
    "Welcome to your first set of Python coding problems.  If this is your first time using Kaggle Notebooks, welcome! \n",
    "\n",
    "Notebooks are composed of blocks (called \"cells\") of text and code. Each of these is editable, though you'll mainly be editing the code cells to answer some questions.\n",
    "\n",
    "To get started, try running the code cell below (by pressing the ► button, or clicking on the cell and pressing ctrl+enter on your keyboard)."
   ]
  },
  {
   "cell_type": "code",
   "execution_count": 1,
   "id": "b5aa150b",
   "metadata": {
    "execution": {
     "iopub.execute_input": "2023-06-05T13:13:54.441411Z",
     "iopub.status.busy": "2023-06-05T13:13:54.440771Z",
     "iopub.status.idle": "2023-06-05T13:13:54.452086Z",
     "shell.execute_reply": "2023-06-05T13:13:54.451025Z"
    },
    "papermill": {
     "duration": 0.023559,
     "end_time": "2023-06-05T13:13:54.454748",
     "exception": false,
     "start_time": "2023-06-05T13:13:54.431189",
     "status": "completed"
    },
    "tags": []
   },
   "outputs": [
    {
     "name": "stdout",
     "output_type": "stream",
     "text": [
      "You've successfully run some Python code\n",
      "Congratulations!\n"
     ]
    }
   ],
   "source": [
    "print(\"You've successfully run some Python code\")\n",
    "print(\"Congratulations!\")"
   ]
  },
  {
   "cell_type": "markdown",
   "id": "81cbb58b",
   "metadata": {
    "papermill": {
     "duration": 0.00826,
     "end_time": "2023-06-05T13:13:54.471541",
     "exception": false,
     "start_time": "2023-06-05T13:13:54.463281",
     "status": "completed"
    },
    "tags": []
   },
   "source": [
    "Try adding another line of code in the cell above and re-running it. \n",
    "\n",
    "Now let's get a little fancier:  Add a new code cell by clicking on an existing code cell, hitting the escape key, and then hitting the `a` or `b` key.  The `a` key will add a cell above the current cell, and `b` adds a cell below.\n",
    "\n",
    "Great! Now you know how to use Notebooks.\n",
    "\n",
    "Each hands-on exercise starts by setting up our feedback and code checking mechanism. Run the code cell below to do that. Then you'll be ready to move on to question 0."
   ]
  },
  {
   "cell_type": "code",
   "execution_count": 2,
   "id": "ce7b3669",
   "metadata": {
    "_kg_hide-input": true,
    "_kg_hide-output": true,
    "execution": {
     "iopub.execute_input": "2023-06-05T13:13:54.494770Z",
     "iopub.status.busy": "2023-06-05T13:13:54.493806Z",
     "iopub.status.idle": "2023-06-05T13:13:54.543923Z",
     "shell.execute_reply": "2023-06-05T13:13:54.542606Z"
    },
    "papermill": {
     "duration": 0.064544,
     "end_time": "2023-06-05T13:13:54.547002",
     "exception": false,
     "start_time": "2023-06-05T13:13:54.482458",
     "status": "completed"
    },
    "tags": []
   },
   "outputs": [
    {
     "name": "stdout",
     "output_type": "stream",
     "text": [
      "Setup complete! You're ready to start question 0.\n"
     ]
    }
   ],
   "source": [
    "from learntools.core import binder; binder.bind(globals())\n",
    "from learntools.python.ex1 import *\n",
    "print(\"Setup complete! You're ready to start question 0.\")"
   ]
  },
  {
   "cell_type": "markdown",
   "id": "772d90f5",
   "metadata": {
    "papermill": {
     "duration": 0.012886,
     "end_time": "2023-06-05T13:13:54.569132",
     "exception": false,
     "start_time": "2023-06-05T13:13:54.556246",
     "status": "completed"
    },
    "tags": []
   },
   "source": [
    "# 0.\n",
    "\n",
    "*This is a silly question intended as an introduction to the format we use for hands-on exercises throughout all Kaggle courses.*\n",
    "\n",
    "**What is your favorite color? **\n",
    "\n",
    "To complete this question, create a variable called `color` in the cell below with an appropriate value. The function call `q0.check()` (which we've already provided in the cell below) will check your answer."
   ]
  },
  {
   "cell_type": "code",
   "execution_count": null,
   "id": "7d692a23",
   "metadata": {
    "papermill": {
     "duration": 0.008237,
     "end_time": "2023-06-05T13:13:54.588301",
     "exception": false,
     "start_time": "2023-06-05T13:13:54.580064",
     "status": "completed"
    },
    "tags": []
   },
   "outputs": [],
   "source": []
  },
  {
   "cell_type": "code",
   "execution_count": 3,
   "id": "83795a25",
   "metadata": {
    "execution": {
     "iopub.execute_input": "2023-06-05T13:13:54.607414Z",
     "iopub.status.busy": "2023-06-05T13:13:54.606722Z",
     "iopub.status.idle": "2023-06-05T13:13:54.617254Z",
     "shell.execute_reply": "2023-06-05T13:13:54.615913Z"
    },
    "papermill": {
     "duration": 0.022597,
     "end_time": "2023-06-05T13:13:54.619583",
     "exception": false,
     "start_time": "2023-06-05T13:13:54.596986",
     "status": "completed"
    },
    "tags": []
   },
   "outputs": [
    {
     "data": {
      "application/javascript": [
       "parent.postMessage({\"jupyterEvent\": \"custom.exercise_interaction\", \"data\": {\"outcomeType\": 1, \"valueTowardsCompletion\": 0.25, \"interactionType\": 1, \"questionType\": 2, \"questionId\": \"0_ExerciseFormatTutorial\", \"learnToolsVersion\": \"0.3.4\", \"failureMessage\": \"\", \"exceptionClass\": \"\", \"trace\": \"\"}}, \"*\")"
      ],
      "text/plain": [
       "<IPython.core.display.Javascript object>"
      ]
     },
     "metadata": {},
     "output_type": "display_data"
    },
    {
     "data": {
      "text/markdown": [
       "<span style=\"color:#33cc33\">Correct:</span> What?! You got it right without needing a hint or anything? Drats. Well hey, you should still continue to the next step to get some practice asking for a hint and checking solutions. (Even though you obviously don't need any help here.)"
      ],
      "text/plain": [
       "Correct: What?! You got it right without needing a hint or anything? Drats. Well hey, you should still continue to the next step to get some practice asking for a hint and checking solutions. (Even though you obviously don't need any help here.)"
      ]
     },
     "metadata": {},
     "output_type": "display_data"
    }
   ],
   "source": [
    "# create a variable called color with an appropriate value on the line below\n",
    "# (Remember, strings in Python must be enclosed in 'single' or \"double\" quotes)\n",
    "\n",
    "color = 'blue'\n",
    "\n",
    "# Check your answer\n",
    "q0.check()"
   ]
  },
  {
   "cell_type": "markdown",
   "id": "715ba670",
   "metadata": {
    "papermill": {
     "duration": 0.008466,
     "end_time": "2023-06-05T13:13:54.636886",
     "exception": false,
     "start_time": "2023-06-05T13:13:54.628420",
     "status": "completed"
    },
    "tags": []
   },
   "source": [
    "Didn't get the right answer? How do you not even know your own favorite color?!\n",
    "\n",
    "Delete the `#` in the line below to make one of the lines run. You can choose between getting a hint or the full answer by choosing which line to remove the `#` from. \n",
    "\n",
    "Removing the `#` is called uncommenting, because it changes that line from a \"comment\" which Python doesn't run to code, which Python does run."
   ]
  },
  {
   "cell_type": "code",
   "execution_count": 4,
   "id": "385206f2",
   "metadata": {
    "execution": {
     "iopub.execute_input": "2023-06-05T13:13:54.657075Z",
     "iopub.status.busy": "2023-06-05T13:13:54.656345Z",
     "iopub.status.idle": "2023-06-05T13:13:54.660619Z",
     "shell.execute_reply": "2023-06-05T13:13:54.659849Z"
    },
    "papermill": {
     "duration": 0.016987,
     "end_time": "2023-06-05T13:13:54.662760",
     "exception": false,
     "start_time": "2023-06-05T13:13:54.645773",
     "status": "completed"
    },
    "tags": []
   },
   "outputs": [],
   "source": [
    "#q0.hint()\n",
    "#q0.solution()"
   ]
  },
  {
   "cell_type": "markdown",
   "id": "8a56806d",
   "metadata": {
    "papermill": {
     "duration": 0.008527,
     "end_time": "2023-06-05T13:13:54.680087",
     "exception": false,
     "start_time": "2023-06-05T13:13:54.671560",
     "status": "completed"
    },
    "tags": []
   },
   "source": [
    "The upcoming questions work the same way. The only thing that will change are the question numbers. For the next question, you'll call `q1.check()`, `q1.hint()`, `q1.solution()`, for question 2, you'll call `q2.check()`, and so on."
   ]
  },
  {
   "cell_type": "markdown",
   "id": "d712685a",
   "metadata": {
    "papermill": {
     "duration": 0.008562,
     "end_time": "2023-06-05T13:13:54.697568",
     "exception": false,
     "start_time": "2023-06-05T13:13:54.689006",
     "status": "completed"
    },
    "tags": []
   },
   "source": [
    "<hr/>\n",
    "\n",
    "# 1.\n",
    "\n",
    "Complete the code below. In case it's helpful, here is the table of available arithmetic operations:\n",
    "\n",
    "\n",
    "\n",
    "| Operator     | Name           | Description                                            |\n",
    "|--------------|----------------|--------------------------------------------------------|\n",
    "| ``a + b``    | Addition       | Sum of ``a`` and ``b``                                 |\n",
    "| ``a - b``    | Subtraction    | Difference of ``a`` and ``b``                          |\n",
    "| ``a * b``    | Multiplication | Product of ``a`` and ``b``                             |\n",
    "| ``a / b``    | True division  | Quotient of ``a`` and ``b``                            |\n",
    "| ``a // b``   | Floor division | Quotient of ``a`` and ``b``, removing fractional parts |\n",
    "| ``a % b``    | Modulus        | Integer remainder after division of ``a`` by ``b``     |\n",
    "| ``a ** b``   | Exponentiation | ``a`` raised to the power of ``b``                     |\n",
    "| ``-a``       | Negation       | The negative of ``a``                                  |\n",
    "\n",
    "<span style=\"display:none\"></span>\n"
   ]
  },
  {
   "cell_type": "code",
   "execution_count": 5,
   "id": "079d4a77",
   "metadata": {
    "execution": {
     "iopub.execute_input": "2023-06-05T13:13:54.717362Z",
     "iopub.status.busy": "2023-06-05T13:13:54.716738Z",
     "iopub.status.idle": "2023-06-05T13:13:54.726319Z",
     "shell.execute_reply": "2023-06-05T13:13:54.725370Z"
    },
    "papermill": {
     "duration": 0.021976,
     "end_time": "2023-06-05T13:13:54.728435",
     "exception": false,
     "start_time": "2023-06-05T13:13:54.706459",
     "status": "completed"
    },
    "tags": []
   },
   "outputs": [
    {
     "data": {
      "application/javascript": [
       "parent.postMessage({\"jupyterEvent\": \"custom.exercise_interaction\", \"data\": {\"outcomeType\": 1, \"valueTowardsCompletion\": 0.25, \"interactionType\": 1, \"questionType\": 1, \"questionId\": \"1_CircleArea\", \"learnToolsVersion\": \"0.3.4\", \"failureMessage\": \"\", \"exceptionClass\": \"\", \"trace\": \"\"}}, \"*\")"
      ],
      "text/plain": [
       "<IPython.core.display.Javascript object>"
      ]
     },
     "metadata": {},
     "output_type": "display_data"
    },
    {
     "data": {
      "text/markdown": [
       "<span style=\"color:#33cc33\">Correct</span>"
      ],
      "text/plain": [
       "Correct"
      ]
     },
     "metadata": {},
     "output_type": "display_data"
    }
   ],
   "source": [
    "pi = 3.14159 # approximate\n",
    "diameter = 3\n",
    "\n",
    "# Create a variable called 'radius' equal to half the diameter\n",
    "____\n",
    "\n",
    "radius = diameter/2\n",
    "\n",
    "# Create a variable called 'area', using the formula for the area of a circle: pi times the radius squared\n",
    "____\n",
    "\n",
    "area = pi*radius**2\n",
    "# Check your answer\n",
    "q1.check()"
   ]
  },
  {
   "cell_type": "code",
   "execution_count": 6,
   "id": "5bafc2c9",
   "metadata": {
    "execution": {
     "iopub.execute_input": "2023-06-05T13:13:54.749198Z",
     "iopub.status.busy": "2023-06-05T13:13:54.748551Z",
     "iopub.status.idle": "2023-06-05T13:13:54.752774Z",
     "shell.execute_reply": "2023-06-05T13:13:54.752023Z"
    },
    "papermill": {
     "duration": 0.017199,
     "end_time": "2023-06-05T13:13:54.754903",
     "exception": false,
     "start_time": "2023-06-05T13:13:54.737704",
     "status": "completed"
    },
    "tags": []
   },
   "outputs": [],
   "source": [
    "# Uncomment and run the lines below if you need help.\n",
    "#q1.hint()\n",
    "#q1.solution()"
   ]
  },
  {
   "cell_type": "markdown",
   "id": "1c974c64",
   "metadata": {
    "papermill": {
     "duration": 0.008847,
     "end_time": "2023-06-05T13:13:54.773153",
     "exception": false,
     "start_time": "2023-06-05T13:13:54.764306",
     "status": "completed"
    },
    "tags": []
   },
   "source": [
    "<hr/>\n",
    "\n",
    "# 2.\n",
    "\n",
    "Add code to the following cell to swap variables `a` and `b` (so that `a` refers to the object previously referred to by `b` and vice versa)."
   ]
  },
  {
   "cell_type": "code",
   "execution_count": 7,
   "id": "3c81ab22",
   "metadata": {
    "execution": {
     "iopub.execute_input": "2023-06-05T13:13:54.793642Z",
     "iopub.status.busy": "2023-06-05T13:13:54.793019Z",
     "iopub.status.idle": "2023-06-05T13:13:54.803077Z",
     "shell.execute_reply": "2023-06-05T13:13:54.802060Z"
    },
    "papermill": {
     "duration": 0.022839,
     "end_time": "2023-06-05T13:13:54.805228",
     "exception": false,
     "start_time": "2023-06-05T13:13:54.782389",
     "status": "completed"
    },
    "tags": []
   },
   "outputs": [
    {
     "data": {
      "application/javascript": [
       "parent.postMessage({\"jupyterEvent\": \"custom.exercise_interaction\", \"data\": {\"outcomeType\": 1, \"valueTowardsCompletion\": 0.25, \"interactionType\": 1, \"questionType\": 2, \"questionId\": \"2_VariableSwap\", \"learnToolsVersion\": \"0.3.4\", \"failureMessage\": \"\", \"exceptionClass\": \"\", \"trace\": \"\"}}, \"*\")"
      ],
      "text/plain": [
       "<IPython.core.display.Javascript object>"
      ]
     },
     "metadata": {},
     "output_type": "display_data"
    },
    {
     "data": {
      "text/markdown": [
       "<span style=\"color:#33cc33\">Correct:</span> \n",
       "\n",
       "The most straightforward solution is to use a third variable to temporarily store one of the old values. e.g.:\n",
       "\n",
       "    tmp = a\n",
       "    a = b\n",
       "    b = tmp\n",
       "\n",
       "If you've read lots of Python code, you might have seen the following trick to swap two variables in one line:\n",
       "\n",
       "    a, b = b, a\n",
       "\n",
       "We'll demystify this bit of Python magic later when we talk about *tuples*."
      ],
      "text/plain": [
       "Correct: \n",
       "\n",
       "The most straightforward solution is to use a third variable to temporarily store one of the old values. e.g.:\n",
       "\n",
       "    tmp = a\n",
       "    a = b\n",
       "    b = tmp\n",
       "\n",
       "If you've read lots of Python code, you might have seen the following trick to swap two variables in one line:\n",
       "\n",
       "    a, b = b, a\n",
       "\n",
       "We'll demystify this bit of Python magic later when we talk about *tuples*."
      ]
     },
     "metadata": {},
     "output_type": "display_data"
    }
   ],
   "source": [
    "########### Setup code - don't touch this part ######################\n",
    "# If you're curious, these are examples of lists. We'll talk about \n",
    "# them in depth a few lessons from now. For now, just know that they're\n",
    "# yet another type of Python object, like int or float.\n",
    "a = [1, 2, 3]\n",
    "b = [3, 2, 1]\n",
    "q2.store_original_ids()\n",
    "######################################################################\n",
    "\n",
    "# Your code goes here. Swap the values to which a and b refer.\n",
    "# If you get stuck, you can always uncomment one or both of the lines in\n",
    "# the next cell for a hint, or to peek at the solution.\n",
    "\n",
    "######################################################################\n",
    "\n",
    "aux = a\n",
    "a = b\n",
    "b = aux\n",
    "\n",
    "# Check your answer\n",
    "q2.check()"
   ]
  },
  {
   "cell_type": "code",
   "execution_count": 8,
   "id": "03e7b91a",
   "metadata": {
    "execution": {
     "iopub.execute_input": "2023-06-05T13:13:54.826370Z",
     "iopub.status.busy": "2023-06-05T13:13:54.825762Z",
     "iopub.status.idle": "2023-06-05T13:13:54.830434Z",
     "shell.execute_reply": "2023-06-05T13:13:54.829454Z"
    },
    "papermill": {
     "duration": 0.017994,
     "end_time": "2023-06-05T13:13:54.832704",
     "exception": false,
     "start_time": "2023-06-05T13:13:54.814710",
     "status": "completed"
    },
    "tags": []
   },
   "outputs": [],
   "source": [
    "#q2.hint()"
   ]
  },
  {
   "cell_type": "code",
   "execution_count": 9,
   "id": "0fd18356",
   "metadata": {
    "execution": {
     "iopub.execute_input": "2023-06-05T13:13:54.853995Z",
     "iopub.status.busy": "2023-06-05T13:13:54.853295Z",
     "iopub.status.idle": "2023-06-05T13:13:54.857074Z",
     "shell.execute_reply": "2023-06-05T13:13:54.856336Z"
    },
    "papermill": {
     "duration": 0.016848,
     "end_time": "2023-06-05T13:13:54.859202",
     "exception": false,
     "start_time": "2023-06-05T13:13:54.842354",
     "status": "completed"
    },
    "tags": []
   },
   "outputs": [],
   "source": [
    "#q2.solution()"
   ]
  },
  {
   "cell_type": "markdown",
   "id": "18c8b780",
   "metadata": {
    "papermill": {
     "duration": 0.009373,
     "end_time": "2023-06-05T13:13:54.878427",
     "exception": false,
     "start_time": "2023-06-05T13:13:54.869054",
     "status": "completed"
    },
    "tags": []
   },
   "source": [
    "<hr/>\n",
    "\n",
    "# 3a.\n",
    "\n",
    "Add parentheses to the following expression so that it evaluates to 1."
   ]
  },
  {
   "cell_type": "code",
   "execution_count": 10,
   "id": "dcb71206",
   "metadata": {
    "execution": {
     "iopub.execute_input": "2023-06-05T13:13:54.899959Z",
     "iopub.status.busy": "2023-06-05T13:13:54.899280Z",
     "iopub.status.idle": "2023-06-05T13:13:54.904841Z",
     "shell.execute_reply": "2023-06-05T13:13:54.904083Z"
    },
    "papermill": {
     "duration": 0.018683,
     "end_time": "2023-06-05T13:13:54.906882",
     "exception": false,
     "start_time": "2023-06-05T13:13:54.888199",
     "status": "completed"
    },
    "tags": []
   },
   "outputs": [
    {
     "data": {
      "text/plain": [
       "1"
      ]
     },
     "execution_count": 10,
     "metadata": {},
     "output_type": "execute_result"
    }
   ],
   "source": [
    "(5 - 3) // 2"
   ]
  },
  {
   "cell_type": "code",
   "execution_count": 11,
   "id": "78b99d4c",
   "metadata": {
    "execution": {
     "iopub.execute_input": "2023-06-05T13:13:54.928491Z",
     "iopub.status.busy": "2023-06-05T13:13:54.927864Z",
     "iopub.status.idle": "2023-06-05T13:13:54.931622Z",
     "shell.execute_reply": "2023-06-05T13:13:54.930774Z"
    },
    "papermill": {
     "duration": 0.017099,
     "end_time": "2023-06-05T13:13:54.933777",
     "exception": false,
     "start_time": "2023-06-05T13:13:54.916678",
     "status": "completed"
    },
    "tags": []
   },
   "outputs": [],
   "source": [
    "#q3.a.hint()"
   ]
  },
  {
   "cell_type": "code",
   "execution_count": 12,
   "id": "b1cc1c4a",
   "metadata": {
    "execution": {
     "iopub.execute_input": "2023-06-05T13:13:54.957129Z",
     "iopub.status.busy": "2023-06-05T13:13:54.956452Z",
     "iopub.status.idle": "2023-06-05T13:13:54.963602Z",
     "shell.execute_reply": "2023-06-05T13:13:54.962763Z"
    },
    "papermill": {
     "duration": 0.020411,
     "end_time": "2023-06-05T13:13:54.965700",
     "exception": false,
     "start_time": "2023-06-05T13:13:54.945289",
     "status": "completed"
    },
    "tags": []
   },
   "outputs": [
    {
     "data": {
      "application/javascript": [
       "parent.postMessage({\"jupyterEvent\": \"custom.exercise_interaction\", \"data\": {\"interactionType\": 3, \"questionType\": 4, \"questionId\": \"3.1_ArithmeticParensEasy\", \"learnToolsVersion\": \"0.3.4\", \"valueTowardsCompletion\": 0.0, \"failureMessage\": \"\", \"exceptionClass\": \"\", \"trace\": \"\", \"outcomeType\": 4}}, \"*\")"
      ],
      "text/plain": [
       "<IPython.core.display.Javascript object>"
      ]
     },
     "metadata": {},
     "output_type": "display_data"
    },
    {
     "data": {
      "text/markdown": [
       "<span style=\"color:#33cc99\">Solution:</span> \n",
       "```python\n",
       "(5 - 3) // 2\n",
       "```"
      ],
      "text/plain": [
       "Solution: \n",
       "```python\n",
       "(5 - 3) // 2\n",
       "```"
      ]
     },
     "metadata": {},
     "output_type": "display_data"
    }
   ],
   "source": [
    "# Check your answer (Run this code cell to receive credit!)\n",
    "q3.a.solution()"
   ]
  },
  {
   "cell_type": "markdown",
   "id": "a66acefd",
   "metadata": {
    "papermill": {
     "duration": 0.010357,
     "end_time": "2023-06-05T13:13:54.986285",
     "exception": false,
     "start_time": "2023-06-05T13:13:54.975928",
     "status": "completed"
    },
    "tags": []
   },
   "source": [
    "# 3b.  <span title=\"A bit spicy\" style=\"color: darkgreen \">🌶️</span>\n",
    "\n",
    "<small>Questions, like this one, marked a spicy pepper are a bit harder.</small>\n",
    "\n",
    "Add parentheses to the following expression so that it evaluates to 0."
   ]
  },
  {
   "cell_type": "code",
   "execution_count": 13,
   "id": "d6e704fb",
   "metadata": {
    "execution": {
     "iopub.execute_input": "2023-06-05T13:13:55.008967Z",
     "iopub.status.busy": "2023-06-05T13:13:55.008273Z",
     "iopub.status.idle": "2023-06-05T13:13:55.014160Z",
     "shell.execute_reply": "2023-06-05T13:13:55.013184Z"
    },
    "papermill": {
     "duration": 0.019833,
     "end_time": "2023-06-05T13:13:55.016290",
     "exception": false,
     "start_time": "2023-06-05T13:13:54.996457",
     "status": "completed"
    },
    "tags": []
   },
   "outputs": [
    {
     "data": {
      "text/plain": [
       "0"
      ]
     },
     "execution_count": 13,
     "metadata": {},
     "output_type": "execute_result"
    }
   ],
   "source": [
    "(8 - (3 * 2)) - (1 + 1)"
   ]
  },
  {
   "cell_type": "code",
   "execution_count": 14,
   "id": "254284c3",
   "metadata": {
    "execution": {
     "iopub.execute_input": "2023-06-05T13:13:55.039835Z",
     "iopub.status.busy": "2023-06-05T13:13:55.039129Z",
     "iopub.status.idle": "2023-06-05T13:13:55.043175Z",
     "shell.execute_reply": "2023-06-05T13:13:55.042263Z"
    },
    "papermill": {
     "duration": 0.018401,
     "end_time": "2023-06-05T13:13:55.045411",
     "exception": false,
     "start_time": "2023-06-05T13:13:55.027010",
     "status": "completed"
    },
    "tags": []
   },
   "outputs": [],
   "source": [
    "#q3.b.hint()"
   ]
  },
  {
   "cell_type": "code",
   "execution_count": 15,
   "id": "674632f9",
   "metadata": {
    "execution": {
     "iopub.execute_input": "2023-06-05T13:13:55.068685Z",
     "iopub.status.busy": "2023-06-05T13:13:55.068265Z",
     "iopub.status.idle": "2023-06-05T13:13:55.076550Z",
     "shell.execute_reply": "2023-06-05T13:13:55.075692Z"
    },
    "papermill": {
     "duration": 0.022562,
     "end_time": "2023-06-05T13:13:55.078611",
     "exception": false,
     "start_time": "2023-06-05T13:13:55.056049",
     "status": "completed"
    },
    "tags": []
   },
   "outputs": [
    {
     "data": {
      "application/javascript": [
       "parent.postMessage({\"jupyterEvent\": \"custom.exercise_interaction\", \"data\": {\"interactionType\": 3, \"questionType\": 4, \"questionId\": \"3.2_ArithmeticParensHard\", \"learnToolsVersion\": \"0.3.4\", \"valueTowardsCompletion\": 0.0, \"failureMessage\": \"\", \"exceptionClass\": \"\", \"trace\": \"\", \"outcomeType\": 4}}, \"*\")"
      ],
      "text/plain": [
       "<IPython.core.display.Javascript object>"
      ]
     },
     "metadata": {},
     "output_type": "display_data"
    },
    {
     "data": {
      "text/markdown": [
       "<span style=\"color:#33cc99\">Solution:</span> `(8 - 3) * (2 - (1 + 1))` is one solution. There may be others."
      ],
      "text/plain": [
       "Solution: `(8 - 3) * (2 - (1 + 1))` is one solution. There may be others."
      ]
     },
     "metadata": {},
     "output_type": "display_data"
    }
   ],
   "source": [
    "# Check your answer (Run this code cell to receive credit!)\n",
    "q3.b.solution()"
   ]
  },
  {
   "cell_type": "markdown",
   "id": "5039f8cd",
   "metadata": {
    "papermill": {
     "duration": 0.010616,
     "end_time": "2023-06-05T13:13:55.100080",
     "exception": false,
     "start_time": "2023-06-05T13:13:55.089464",
     "status": "completed"
    },
    "tags": []
   },
   "source": [
    "<hr/>\n",
    "\n",
    "# 4. \n",
    "Alice, Bob and Carol have agreed to pool their Halloween candy and split it evenly among themselves.\n",
    "For the sake of their friendship, any candies left over will be smashed. For example, if they collectively\n",
    "bring home 91 candies, they'll take 30 each and smash 1.\n",
    "\n",
    "Write an arithmetic expression below to calculate how many candies they must smash for a given haul."
   ]
  },
  {
   "cell_type": "code",
   "execution_count": 16,
   "id": "f7618656",
   "metadata": {
    "execution": {
     "iopub.execute_input": "2023-06-05T13:13:55.124129Z",
     "iopub.status.busy": "2023-06-05T13:13:55.123469Z",
     "iopub.status.idle": "2023-06-05T13:13:55.131561Z",
     "shell.execute_reply": "2023-06-05T13:13:55.130732Z"
    },
    "papermill": {
     "duration": 0.022473,
     "end_time": "2023-06-05T13:13:55.133622",
     "exception": false,
     "start_time": "2023-06-05T13:13:55.111149",
     "status": "completed"
    },
    "tags": []
   },
   "outputs": [
    {
     "data": {
      "application/javascript": [
       "parent.postMessage({\"jupyterEvent\": \"custom.exercise_interaction\", \"data\": {\"outcomeType\": 1, \"valueTowardsCompletion\": 0.25, \"interactionType\": 1, \"questionType\": 1, \"questionId\": \"4_CandySplitting\", \"learnToolsVersion\": \"0.3.4\", \"failureMessage\": \"\", \"exceptionClass\": \"\", \"trace\": \"\"}}, \"*\")"
      ],
      "text/plain": [
       "<IPython.core.display.Javascript object>"
      ]
     },
     "metadata": {},
     "output_type": "display_data"
    },
    {
     "data": {
      "text/markdown": [
       "<span style=\"color:#33cc33\">Correct</span>"
      ],
      "text/plain": [
       "Correct"
      ]
     },
     "metadata": {},
     "output_type": "display_data"
    }
   ],
   "source": [
    "# Variables representing the number of candies collected by alice, bob, and carol\n",
    "alice_candies = 121\n",
    "bob_candies = 77\n",
    "carol_candies = 109\n",
    "\n",
    "# Your code goes here! Replace the right-hand side of this assignment with an expression\n",
    "# involving alice_candies, bob_candies, and carol_candies\n",
    "to_smash = (alice_candies + bob_candies + carol_candies) % 3\n",
    "\n",
    "# Check your answer\n",
    "q4.check()"
   ]
  },
  {
   "cell_type": "code",
   "execution_count": 17,
   "id": "10b8744e",
   "metadata": {
    "execution": {
     "iopub.execute_input": "2023-06-05T13:13:55.158061Z",
     "iopub.status.busy": "2023-06-05T13:13:55.157665Z",
     "iopub.status.idle": "2023-06-05T13:13:55.162307Z",
     "shell.execute_reply": "2023-06-05T13:13:55.161181Z"
    },
    "papermill": {
     "duration": 0.019589,
     "end_time": "2023-06-05T13:13:55.164438",
     "exception": false,
     "start_time": "2023-06-05T13:13:55.144849",
     "status": "completed"
    },
    "tags": []
   },
   "outputs": [],
   "source": [
    "#q4.hint()\n",
    "#q4.solution()"
   ]
  },
  {
   "cell_type": "markdown",
   "id": "3e24360a",
   "metadata": {
    "papermill": {
     "duration": 0.010947,
     "end_time": "2023-06-05T13:13:55.186636",
     "exception": false,
     "start_time": "2023-06-05T13:13:55.175689",
     "status": "completed"
    },
    "tags": []
   },
   "source": [
    "# Keep Going\n",
    "\n",
    "Next up, you'll **[learn to write new functions and understand functions others write](https://www.kaggle.com/colinmorris/functions-and-getting-help)**. This will make you at least 10 times more productive as a Python programmer. "
   ]
  },
  {
   "cell_type": "markdown",
   "id": "a3184953",
   "metadata": {
    "papermill": {
     "duration": 0.011074,
     "end_time": "2023-06-05T13:13:55.209073",
     "exception": false,
     "start_time": "2023-06-05T13:13:55.197999",
     "status": "completed"
    },
    "tags": []
   },
   "source": [
    "---\n",
    "\n",
    "\n",
    "\n",
    "\n",
    "*Have questions or comments? Visit the [course discussion forum](https://www.kaggle.com/learn/python/discussion) to chat with other learners.*"
   ]
  }
 ],
 "metadata": {
  "kernelspec": {
   "display_name": "Python 3",
   "language": "python",
   "name": "python3"
  },
  "language_info": {
   "codemirror_mode": {
    "name": "ipython",
    "version": 3
   },
   "file_extension": ".py",
   "mimetype": "text/x-python",
   "name": "python",
   "nbconvert_exporter": "python",
   "pygments_lexer": "ipython3",
   "version": "3.10.10"
  },
  "papermill": {
   "default_parameters": {},
   "duration": 13.389801,
   "end_time": "2023-06-05T13:13:56.042105",
   "environment_variables": {},
   "exception": null,
   "input_path": "__notebook__.ipynb",
   "output_path": "__notebook__.ipynb",
   "parameters": {},
   "start_time": "2023-06-05T13:13:42.652304",
   "version": "2.4.0"
  }
 },
 "nbformat": 4,
 "nbformat_minor": 5
}
